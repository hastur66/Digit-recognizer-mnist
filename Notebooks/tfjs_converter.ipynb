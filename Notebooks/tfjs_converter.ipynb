{
 "cells": [
  {
   "cell_type": "code",
   "execution_count": null,
   "id": "circular-ethics",
   "metadata": {},
   "outputs": [],
   "source": [
    "import tensorflowjs as tf js\n",
    "from tensorflow.keras.models import load_model"
   ]
  },
  {
   "cell_type": "code",
   "execution_count": null,
   "id": "painted-security",
   "metadata": {},
   "outputs": [],
   "source": [
    "model_path = 'my_model.h5'\n",
    "tfjs_target_dir = './'\n",
    "\n",
    "model = load_mode(model_path)"
   ]
  },
  {
   "cell_type": "code",
   "execution_count": null,
   "id": "aerial-poland",
   "metadata": {},
   "outputs": [],
   "source": [
    "tfjs.converters.save_keras_model(model, tfjs_target_dir)"
   ]
  },
  {
   "cell_type": "code",
   "execution_count": null,
   "id": "computational-acceptance",
   "metadata": {},
   "outputs": [],
   "source": [
    "!tensorflowjs_converter --input_format keras \\\n",
    "                       path/to/my_model.h5 \\\n",
    "                       path/to/tfjs_target_dir"
   ]
  }
 ],
 "metadata": {
  "kernelspec": {
   "display_name": "Python [conda env:tf3] *",
   "language": "python",
   "name": "conda-env-tf3-py"
  },
  "language_info": {
   "codemirror_mode": {
    "name": "ipython",
    "version": 3
   },
   "file_extension": ".py",
   "mimetype": "text/x-python",
   "name": "python",
   "nbconvert_exporter": "python",
   "pygments_lexer": "ipython3",
   "version": "3.8.8"
  }
 },
 "nbformat": 4,
 "nbformat_minor": 5
}
